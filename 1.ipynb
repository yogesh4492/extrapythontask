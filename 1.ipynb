{
 "cells": [
  {
   "cell_type": "code",
   "execution_count": 3,
   "id": "babef2ac",
   "metadata": {},
   "outputs": [
    {
     "name": "stdout",
     "output_type": "stream",
     "text": [
      "64 is even number\n"
     ]
    }
   ],
   "source": [
    "# 1. Even or Odd – Take a number input and print whether it’s even or odd.\n",
    "\n",
    "num=int(input(\"Enter Number= \"))\n",
    "if num%2==0:\n",
    "    print(f\"{num} is even number\")\n",
    "else:\n",
    "    print(f\"{num} is oidd number\")\n",
    "    "
   ]
  },
  {
   "cell_type": "code",
   "execution_count": 7,
   "id": "7440fc59",
   "metadata": {},
   "outputs": [
    {
     "name": "stdout",
     "output_type": "stream",
     "text": [
      "-45 is Negative Number\n"
     ]
    }
   ],
   "source": [
    "# 2. Positive, Negative, or Zero – Identify if a number is positive, negative, or zero.\n",
    "\n",
    "num=int(input(\"Enter Number= \"))\n",
    "if num>0:\n",
    "    print(f\"{num} is Positive Number\")\n",
    "elif num==0:\n",
    "    print(f\"{num} is Zero\")\n",
    "else:\n",
    "    print(f\"{num} is Negative Number\")"
   ]
  },
  {
   "cell_type": "code",
   "execution_count": 9,
   "id": "76b21bc7",
   "metadata": {},
   "outputs": [
    {
     "name": "stdout",
     "output_type": "stream",
     "text": [
      "You Are Not Eligible For Vote\n"
     ]
    }
   ],
   "source": [
    "# 3. Voting Eligibility – Check if a person is eligible to vote (age ≥ 18).\n",
    "\n",
    "age=int(input(\"Enter Number= \"))\n",
    "if age>=18:\n",
    "    print(\"You Are Eligible For Vote\")\n",
    "else:\n",
    "    print(\"You Are Not Eligible For Vote\")"
   ]
  },
  {
   "cell_type": "code",
   "execution_count": 11,
   "id": "32b49447",
   "metadata": {},
   "outputs": [
    {
     "name": "stdout",
     "output_type": "stream",
     "text": [
      "Student Is Fail\n"
     ]
    }
   ],
   "source": [
    "# 4. Pass/Fail – Take marks as input and determine if a student has passed (≥ 40).\n",
    "\n",
    "marks=int(input(\"Enter Marks= \"))\n",
    "if marks>=40:\n",
    "    print(\"Student Is Pass\")\n",
    "else:\n",
    "    print(\"Student Is Fail\")"
   ]
  },
  {
   "cell_type": "code",
   "execution_count": 13,
   "id": "4a155b9a",
   "metadata": {},
   "outputs": [
    {
     "name": "stdout",
     "output_type": "stream",
     "text": [
      "Purchase Amount=  450\n",
      "Sorry ! You Can't get Discount add more items To Cart\n",
      "Final Amount=  450\n"
     ]
    }
   ],
   "source": [
    "# 5. Discount Check – If purchase amount > 500, apply 10% discount; else, no discount.\n",
    "\n",
    "amount=int(input(\"Enter Purchase Amount= \"))\n",
    "print(\"Purchase Amount= \",amount)\n",
    "if amount>500:\n",
    "    discount=amount*0.10\n",
    "    amount=amount-discount\n",
    "    print(\"Congratulation ! You Get 10% Off On Purchase Amount\")\n",
    "else:\n",
    "    print(\"Sorry ! You Can't get Discount add more items To Cart\")\n",
    "\n",
    "print(\"Final Amount= \",amount)\n",
    "\n",
    "\n"
   ]
  },
  {
   "cell_type": "code",
   "execution_count": 15,
   "id": "542db1ef",
   "metadata": {},
   "outputs": [
    {
     "name": "stdout",
     "output_type": "stream",
     "text": [
      "10 is not Divisible By Both 3 and 5\n"
     ]
    }
   ],
   "source": [
    "# 6.. Divisibility Test – Check if a number is divisible by 3, 5, or both.\n",
    "\n",
    "num=int(input(\"Enter Number= \"))\n",
    "if num%3==0 and num%5==0:\n",
    "    print(f\"{num} is Divisible By 3 and 5 both\")\n",
    "else:\n",
    "    print(f\"{num} is not Divisible By Both 3 and 5\")"
   ]
  },
  {
   "cell_type": "code",
   "execution_count": null,
   "id": "7740b521",
   "metadata": {},
   "outputs": [
    {
     "name": "stdout",
     "output_type": "stream",
     "text": [
      "Grade A\n"
     ]
    }
   ],
   "source": [
    "# 7. Grade Calculator – Based on marks, print grades:\n",
    "\n",
    "#     >= 90 → A\n",
    "#     >= 75 → B\n",
    "#     >= 50 → C\n",
    "#     <  50 → F\n",
    "\n",
    "\n",
    "marks=int(input(\"Enter Marks= \"))\n",
    "if marks>=90:\n",
    "    print(\"Grade A\")\n",
    "elif marks>=75 and marks<90:\n",
    "    print(\"Grade B\")\n",
    "elif marks>=50 and marks<75:\n",
    "    print(\"Grade C\")\n",
    "else:\n",
    "    print(\"Grade F\")\n",
    "    \n"
   ]
  },
  {
   "cell_type": "code",
   "execution_count": 22,
   "id": "f91c5ae0",
   "metadata": {},
   "outputs": [
    {
     "name": "stdout",
     "output_type": "stream",
     "text": [
      "2024 is leap is year\n"
     ]
    }
   ],
   "source": [
    "# 8. Leap Year Check – A year is a leap year if divisible by 4 but not 100 unless divisible by 400.\n",
    "\n",
    "year=int(input(\"Enter Year= \"))\n",
    "if year%4==0:\n",
    "    if year%100!=0 or year%400==0:\n",
    "        print(f\"{year} is leap is year\")\n",
    "    else:\n",
    "        print(f\"{year} is not a leap year\")\n"
   ]
  },
  {
   "cell_type": "code",
   "execution_count": 23,
   "id": "1791bb02",
   "metadata": {},
   "outputs": [
    {
     "name": "stdout",
     "output_type": "stream",
     "text": [
      "45 is Largest Number\n"
     ]
    }
   ],
   "source": [
    "# 9. Largest of Three Numbers – Input 3 numbers and find the largest using nested if.\n",
    "\n",
    "num1=int(input(\"Enter Number 1 = \"))\n",
    "num2=int(input(\"Enter Number 2 = \"))\n",
    "num3=int(input(\"Enter Number 3 = \"))\n",
    "\n",
    "if num1>num2:\n",
    "    if num1>num3:\n",
    "        print(f\"{num1} is Largest Number\")\n",
    "    else:\n",
    "        print(f\"{num3} is largest number\")\n",
    "else:\n",
    "    if num2>num3:\n",
    "        print(f\"{num2} is Largest number \")\n",
    "    else:\n",
    "        print(f\"{num3} is Largest Number\")\n",
    "        "
   ]
  },
  {
   "cell_type": "code",
   "execution_count": 24,
   "id": "4784bbdb",
   "metadata": {},
   "outputs": [
    {
     "name": "stdout",
     "output_type": "stream",
     "text": [
      "Stop Your Vehicle\n"
     ]
    }
   ],
   "source": [
    "#10. Traffic Signal – Input color (Red/Yellow/Green) and print action (Stop/Slow/Go).\n",
    "\n",
    "color=input(\"Enter Traffic Signal Color= \")\n",
    "if color==\"Red\" or color==\"red\":\n",
    "    print(\"Stop Your Vehicle\")\n",
    "elif color==\"Yellow\" or color==\"yellow\":\n",
    "    print(\"Slow Down Yor Vehicle\")\n",
    "else:\n",
    "    print(\"Go \")"
   ]
  },
  {
   "cell_type": "code",
   "execution_count": null,
   "id": "fc5372e6",
   "metadata": {},
   "outputs": [
    {
     "name": "stdout",
     "output_type": "stream",
     "text": [
      "obese\n"
     ]
    }
   ],
   "source": [
    "\"\"\"11. Body Mass Index (BMI) Calculator \n",
    "\n",
    "     BMI < 18.5 → Underweight\n",
    "     18.5 < BMI < 25 → Normal\n",
    "     25  <= BMI < 30 → Overweight\n",
    "     BMI >= 30 → Obese     \n",
    "\"\"\"\n",
    "\n",
    "bmi=float(input(\"Enter BMI= \"))\n",
    "if bmi<18.5:\n",
    "    print(\"Underweight\")\n",
    "elif 18.5<bmi<25:\n",
    "    print(\"Normat\")\n",
    "elif 25<= bmi <30:\n",
    "    print(\"OverWeight\")\n",
    "else:\n",
    "    print(\"obese\")\n"
   ]
  },
  {
   "cell_type": "code",
   "execution_count": 4,
   "id": "8c4d167d",
   "metadata": {},
   "outputs": [
    {
     "name": "stdout",
     "output_type": "stream",
     "text": [
      "Current Balance is 5000\n",
      "1000.0 amount Withdraw Successfully!\n",
      "Available Balance = 4000.0\n"
     ]
    }
   ],
   "source": [
    "# 12. Bank ATM –\n",
    "\n",
    "#      Input balance and withdrawal amount.\n",
    "#      Check if balance is sufficient and withdrawal ≤ daily limit.\n",
    "\n",
    "balance=5000\n",
    "print(f\"Current Balance is {balance}\")\n",
    "withdraw=float(input(\"Enter Withdraw Amount= \"))\n",
    "daily_limit=1000\n",
    "if balance>withdraw and withdraw<=daily_limit:\n",
    "    balance-=withdraw\n",
    "    print(f\"{withdraw} amount Withdraw Successfully!\")\n",
    "elif balance<withdraw:\n",
    "    print(\"Insufficient Balance\")\n",
    "else:\n",
    "    print(\"Sorry Your Daily Limit is over \")\n",
    "print(f\"Available Balance = {balance}\")"
   ]
  },
  {
   "cell_type": "code",
   "execution_count": 5,
   "id": "f0d922af",
   "metadata": {},
   "outputs": [
    {
     "name": "stdout",
     "output_type": "stream",
     "text": [
      "Welcome in ticket booking\n",
      "Child Ticket\n"
     ]
    }
   ],
   "source": [
    "# 13. Ticket Booking –\n",
    "\n",
    "#      Age < 5 → Free ticket\n",
    "#      Age 5–18 → Child ticket\n",
    "#      Age 18–60 → Adult ticket\n",
    "#      Age > 60 → Senior citizen ticket\n",
    "\n",
    "print(\"Welcome in ticket booking\")\n",
    "age=int(input(\"Enter Your Age= \"))\n",
    "if age<5:\n",
    "    print(\"Free Ticket\")\n",
    "elif age>=5 and age<18:\n",
    "    print(\"Child Ticket\")\n",
    "elif age>=18 and age<60:\n",
    "    print(\"Adult Ticket\")\n",
    "else:\n",
    "    print(\"Senior Citizen Ticket\")"
   ]
  },
  {
   "cell_type": "code",
   "execution_count": 6,
   "id": "9e94c34c",
   "metadata": {},
   "outputs": [
    {
     "name": "stdout",
     "output_type": "stream",
     "text": [
      "Your Total Amount= 1500\n",
      "Congratulation !! You Get 15% Off \n",
      "Final Amount=  1275.0\n"
     ]
    }
   ],
   "source": [
    "# 14. Shopping Cart –\n",
    "\n",
    "#      If total > 1000 → 15% discount\n",
    "#      Else if total > 500 → 10% discount\n",
    "#      Else → no discount\n",
    "\n",
    "\n",
    "total=int(input(\"Enter Total Amount= \"))\n",
    "print(f\"Your Total Amount= {total}\")\n",
    "if total>1000:\n",
    "    discount=total*0.15\n",
    "    total-=discount\n",
    "    print(\"Congratulation !! You Get 15% Off \")\n",
    "elif total>500:\n",
    "    discount=total*0.10\n",
    "    total-=discount\n",
    "    print(\"Congratulation!! You Get 10% Off \")\n",
    "else:\n",
    "    print(\"Add More Iteems to get discount upto 10% \")\n",
    "\n",
    "print(\"Final Amount= \",total)\n",
    "\n",
    "\n",
    "\n"
   ]
  },
  {
   "cell_type": "code",
   "execution_count": null,
   "id": "277b4d03",
   "metadata": {},
   "outputs": [
    {
     "name": "stdout",
     "output_type": "stream",
     "text": [
      "Welcome In Electricity Billing System\n",
      "Total bill =  225\n"
     ]
    }
   ],
   "source": [
    "# 15. Electricity Bill Calculator – Units consumed:\n",
    "\n",
    "#      ≤ 100 → Rs. 5/unit\n",
    "#      101–200 → Rs. 7/unit\n",
    "#      201–500 → Rs. 10/unit\n",
    "#      > 500 → Rs. 15/unit\n",
    "\n",
    "print(\"Welcome In Electricity Billing System\")\n",
    "\n",
    "unit=int(input(\"Enter consume unit = \"))\n",
    "if unit<=100:\n",
    "    bill=5*unit\n",
    "elif unit>100 and unit<=200:\n",
    "    bill=7*unit\n",
    "elif unit>200 and unit<=500:\n",
    "    bill=10*unit\n",
    "elif unit>500:\n",
    "    bill=15*unit\n",
    "else:\n",
    "    print(\"Invalid unit\")\n",
    "print(\"Total bill = \",bill)\n",
    "\n"
   ]
  },
  {
   "cell_type": "code",
   "execution_count": 9,
   "id": "e0029e09",
   "metadata": {},
   "outputs": [
    {
     "name": "stdout",
     "output_type": "stream",
     "text": [
      "Invalid UserName \n"
     ]
    }
   ],
   "source": [
    "# 16. Simple Login System –\n",
    "\n",
    "#      Input username and password.\n",
    "#      If correct, print “Login Successful”; else, check if username is correct but password wrong → print “Incorrect Password”.\n",
    "\n",
    "username=\"Yogesh\"\n",
    "password=\"125468@45\"\n",
    "user=input(\"Enter User Name = \")\n",
    "password1=input(\"Enter Password= \")\n",
    "if user==username:\n",
    "    if password1==password:\n",
    "        print(\" Login Successfully \")\n",
    "    else:\n",
    "        print(\"Incorrect Password\")\n",
    "else:\n",
    "    print(\"Invalid UserName \")\n"
   ]
  },
  {
   "cell_type": "code",
   "execution_count": null,
   "id": "30b55d11",
   "metadata": {},
   "outputs": [
    {
     "name": "stdout",
     "output_type": "stream",
     "text": [
      "Hot Temprature\n"
     ]
    }
   ],
   "source": [
    "# 17. Temperature Advisor –\n",
    "\n",
    "#      temp < 0 → “Freezing”\n",
    "#      0 ≤ temp < 10 → “Cold”\n",
    "#      10 ≤ temp < 25 → “Pleasant”\n",
    "#      ≥ 25 → “Hot”\n",
    "\n",
    "temp=float(input(\"Enter Temprature = \"))\n",
    "if temp<0:\n",
    "    print(\"Freezing temprature\")\n",
    "elif temp>=0 and temp<10:\n",
    "    print(\"cold temprature\")\n",
    "elif temp>=10 and temp<25:\n",
    "    print(\"Pleasent Temprature\")\n",
    "elif temp>=25:\n",
    "    print(\"Hot Temprature\")\n",
    "else:\n",
    "    print(\"Invalid Input\")"
   ]
  },
  {
   "cell_type": "code",
   "execution_count": 12,
   "id": "e6c96e5e",
   "metadata": {},
   "outputs": [
    {
     "name": "stdout",
     "output_type": "stream",
     "text": [
      "Available Car For Rent : 'Sedan'  'SUV'  'Hatchback'\n",
      "Rent = 20000\n",
      "Discount =  2000.0\n",
      "Total Amount=   18000.0\n"
     ]
    }
   ],
   "source": [
    "\n",
    "# 18. Car Rental Charges –\n",
    "\n",
    "#      Sedan: Rs. 1000/day, SUV: Rs. 1500/day, Hatchback: Rs. 800/day\n",
    "#      If rental days > 5 → 10% discount\n",
    "\n",
    "print(\"Available Car For Rent : 'Sedan'  'SUV'  'Hatchback'\")\n",
    "car=input(\"Enter Car Name= \")\n",
    "days=int(input(\"Enter Days = \"))\n",
    "if car=='Sedan' or car=='sedan':\n",
    "    rent=1000*days\n",
    "elif car=='SUV' or car==\"suv\":\n",
    "    rent=1500*days\n",
    "elif car=='Hatchback' or car==\"hatchback\":\n",
    "    rent=800*days\n",
    "else:\n",
    "    print(\"Invalid Car Input\")\n",
    "print(f\"Rent = {rent}\")\n",
    "if days>5:\n",
    "     discount=rent*0.10\n",
    "     rent-=discount\n",
    "print(\"Discount = \",discount)\n",
    "print(\"Total Amount=  \",rent)\n",
    "\n",
    "\n"
   ]
  },
  {
   "cell_type": "code",
   "execution_count": null,
   "id": "767b1781",
   "metadata": {},
   "outputs": [
    {
     "name": "stdout",
     "output_type": "stream",
     "text": [
      "Food Type = Veg\n",
      "Bill Amount= 2100.0 \n",
      "Gst Amount= 105.0\n",
      "Service Charge= 210.0\n",
      "Total Amount= 2415.0\n"
     ]
    }
   ],
   "source": [
    "#19. Restaurant Bill with GST and Service Charge –\n",
    "#Calculate GST 5% + service charge 10% based on food type (Veg/Non-Veg) and bill amount\n",
    "\n",
    "bill_amount=float(input(\"Enter bill Amount= \"))\n",
    "food_type=input(\"Enter Food Type= \")\n",
    "gst=bill_amount*0.05\n",
    "ser_charge=bill_amount*0.10\n",
    "total_Amount=bill_amount+gst+ser_charge\n",
    "\n",
    "if food_type=='veg' or food_type=='Veg':\n",
    "    print(f\"Food Type = {food_type}\")\n",
    "    print(f\"Bill Amount= {bill_amount} \")\n",
    "    print(f\"Gst Amount= {gst}\")\n",
    "    print(f\"Service Charge= {ser_charge}\")\n",
    "    print(f\"Total Amount= {total_Amount}\")\n",
    "else:\n",
    "    print(f\"Food Type = {food_type}\")\n",
    "    print(f\"Bill Amount= {bill_amount} \")\n",
    "    print(f\"Gst Amount= {gst}\")\n",
    "    print(f\"Service Charge= {ser_charge}\")\n",
    "    print(f\"Total Amount= {total_Amount}\")\n"
   ]
  },
  {
   "cell_type": "code",
   "execution_count": null,
   "id": "9a8b85e3",
   "metadata": {},
   "outputs": [],
   "source": []
  }
 ],
 "metadata": {
  "kernelspec": {
   "display_name": "Python 3",
   "language": "python",
   "name": "python3"
  },
  "language_info": {
   "codemirror_mode": {
    "name": "ipython",
    "version": 3
   },
   "file_extension": ".py",
   "mimetype": "text/x-python",
   "name": "python",
   "nbconvert_exporter": "python",
   "pygments_lexer": "ipython3",
   "version": "3.10.12"
  }
 },
 "nbformat": 4,
 "nbformat_minor": 5
}
