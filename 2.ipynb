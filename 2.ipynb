{
 "cells": [
  {
   "cell_type": "code",
   "execution_count": 2,
   "id": "3dc549fc",
   "metadata": {},
   "outputs": [
    {
     "name": "stdout",
     "output_type": "stream",
     "text": [
      "Factorial Of 5 is = 120\n"
     ]
    }
   ],
   "source": [
    "# Q 1: Accept a number from the user and find the factorial of the number using a function with a parameter and return type.\n",
    "\n",
    "def factorial(num):\n",
    "    fact=1\n",
    "    for i in range(1,num+1):\n",
    "        fact*=i\n",
    "    return fact\n",
    "\n",
    "\n",
    "num=int(input(\"Enter Number= \"))\n",
    "print(f\"Factorial Of {num} is = {factorial(num)}\")"
   ]
  },
  {
   "cell_type": "code",
   "execution_count": 8,
   "id": "a0115fc9",
   "metadata": {},
   "outputs": [
    {
     "data": {
      "text/plain": [
       "False"
      ]
     },
     "execution_count": 8,
     "metadata": {},
     "output_type": "execute_result"
    }
   ],
   "source": [
    "# Q 2: Write a function that accepts a string and returns True if the string is a palindrome, and False otherwise.\n",
    "\n",
    "def Palindrome_string():\n",
    "    str=input(\"Enter String= \")\n",
    "    rev=''\n",
    "    for  i in str:\n",
    "        rev= i + rev\n",
    "    if rev==str:\n",
    "        return True\n",
    "    else:\n",
    "        return  False\n",
    "\n",
    "Palindrome_string()\n",
    "\n",
    "\n",
    "    \n"
   ]
  },
  {
   "cell_type": "code",
   "execution_count": 10,
   "id": "72a53826",
   "metadata": {},
   "outputs": [
    {
     "name": "stdout",
     "output_type": "stream",
     "text": [
      "Sum Of All Even Numbers=  22\n"
     ]
    }
   ],
   "source": [
    "# Q 3: Write a function that accepts a list of numbers and returns the sum of all even numbers in the list.\n",
    "\n",
    "def list_num():\n",
    "    lis=[]\n",
    "    sum=0\n",
    "    for i in range(1,6):\n",
    "        num=int(input(\"Enter number= \"))\n",
    "        lis.append(num)\n",
    "    for i in lis:\n",
    "        if i%2==0:\n",
    "            sum+=i\n",
    "    print(\"Sum Of All Even Numbers= \",sum)\n",
    "\n",
    "list_num()\n",
    "\n",
    "\n"
   ]
  },
  {
   "cell_type": "code",
   "execution_count": 12,
   "id": "90e291ed",
   "metadata": {},
   "outputs": [
    {
     "name": "stdout",
     "output_type": "stream",
     "text": [
      "MAximum Number In List=  96\n"
     ]
    }
   ],
   "source": [
    "# Q 4: Write a function that accepts a list of numbers and returns the maximum value in the list.\n",
    "\n",
    "def list_maximum():\n",
    "    lis=[]\n",
    "    for i in range(1,6):\n",
    "        num=int(input(\"Enter number= \"))\n",
    "        lis.append(num)\n",
    "    for i in lis:\n",
    "        max=lis[0]\n",
    "        if i>max :\n",
    "            max=i\n",
    "    print(\"MAximum Number In List= \",max)\n",
    "list_maximum()   \n",
    "    "
   ]
  },
  {
   "cell_type": "code",
   "execution_count": 15,
   "id": "c9c38a0b",
   "metadata": {},
   "outputs": [
    {
     "name": "stdout",
     "output_type": "stream",
     "text": [
      "13 is prime number \n"
     ]
    }
   ],
   "source": [
    "# Q 5: Accept a number from the user and check if it is a prime number using a function with a parameter and return type.\n",
    "\n",
    "\n",
    "def is_prime(num):\n",
    "    flag=True\n",
    "    for i in range(2,num):\n",
    "        if num%i==0:\n",
    "            flag=False\n",
    "    return flag\n",
    "num=int(input(\"Enter Number= \"))\n",
    "prime=is_prime(num)\n",
    "if prime:\n",
    "    print(f\"{num} is prime number \")\n",
    "else:\n",
    "    print(f\"{num} is not a prime number \")"
   ]
  },
  {
   "cell_type": "code",
   "execution_count": 18,
   "id": "4e8ae49f",
   "metadata": {},
   "outputs": [
    {
     "name": "stdout",
     "output_type": "stream",
     "text": [
      "number of times e character in string 2 \n"
     ]
    }
   ],
   "source": [
    "#Q 6: Write a function that accepts a string and a character, and returns the number of times the character appears in the string.\n",
    "\n",
    "def repeatation():\n",
    "    str=input(\"Enter String = \")\n",
    "    ch=input(\"Enter Any Character= \")\n",
    "    rp=0\n",
    "    for i in str:\n",
    "        if ch==i:\n",
    "            rp+=1\n",
    "    print(f\"number of times {ch} character in string {rp} \")\n",
    "repeatation()\n",
    "\n",
    "\n"
   ]
  },
  {
   "cell_type": "code",
   "execution_count": 19,
   "id": "6f7844e6",
   "metadata": {},
   "outputs": [
    {
     "name": "stdout",
     "output_type": "stream",
     "text": [
      "['olleh', 'dlrow', 'woh', 'era', 'uoy']\n"
     ]
    }
   ],
   "source": [
    "# Q 7: Write a function that accepts a list of strings and returns a new list with each string reversed.\n",
    "\n",
    "def revered_string(ls1):\n",
    "    ls2=[]\n",
    "    for i in ls1:\n",
    "        i=i[::-1]\n",
    "        ls2.append(i)\n",
    "    return ls2\n",
    "\n",
    "ls1=[]\n",
    "for i in range(1,6):\n",
    "    i=input(\"Enter String= \")\n",
    "    ls1.append(i)\n",
    "\n",
    "ls2=revered_string(ls1)\n",
    "print(ls2)\n"
   ]
  },
  {
   "cell_type": "code",
   "execution_count": 20,
   "id": "9e03b370",
   "metadata": {},
   "outputs": [
    {
     "name": "stdout",
     "output_type": "stream",
     "text": [
      "Average Of All Number =  35\n"
     ]
    }
   ],
   "source": [
    "# Q 8: Write a function that accepts a list of numbers and returns the average of the numbers.\n",
    "\n",
    "def avg_list_number(ls1):\n",
    "    sum=0\n",
    "    for i in ls1:\n",
    "        sum+=i\n",
    "    avg=sum//len(ls1)\n",
    "    return avg\n",
    "\n",
    "ls1=[]\n",
    "for i in range(5):\n",
    "    i=int(input(\"Enter Number= \"))\n",
    "    ls1.append(i)\n",
    "\n",
    "average=avg_list_number(ls1)\n",
    "print(\"Average Of All Number = \",average)\n"
   ]
  },
  {
   "cell_type": "code",
   "execution_count": 22,
   "id": "63b73db3",
   "metadata": {},
   "outputs": [
    {
     "name": "stdout",
     "output_type": "stream",
     "text": [
      "ram\n"
     ]
    }
   ],
   "source": [
    "# Q 9:Accept a string from the user and print it in uppercase if the length of the string is greater than 5, else print it in lowercase using a function.\n",
    "\n",
    "def lower_upper_str(str):\n",
    "    if len(str)>5:\n",
    "        return str.upper()\n",
    "    else:\n",
    "        return str.lower()\n",
    "stri=input(\"Enter String= \")\n",
    "print(lower_upper_str(stri))"
   ]
  },
  {
   "cell_type": "code",
   "execution_count": 24,
   "id": "51b6abb4",
   "metadata": {},
   "outputs": [
    {
     "name": "stdout",
     "output_type": "stream",
     "text": [
      "original List :  [15, 23, 21, 45, 55]\n",
      "list Of Number Divisible By 3 =  [15, 21, 45]\n"
     ]
    }
   ],
   "source": [
    "# Q 10: Write a function that accepts a list of numbers and returns a new list with only the numbers that are divisible by 3.\n",
    "\n",
    "def divisible_by_3():\n",
    "    lst1=[]\n",
    "    lst2=[]\n",
    "    for i in range(1,6):\n",
    "        i=int(input(\"Enter Number= \"))\n",
    "        lst1.append(i)\n",
    "    print(\"original List : \",lst1)\n",
    "    for i in lst1:\n",
    "        if i%3==0:\n",
    "            lst2.append(i)\n",
    "    print(\"list Of Number Divisible By 3 = \",lst2)\n",
    "divisible_by_3()"
   ]
  },
  {
   "cell_type": "code",
   "execution_count": 27,
   "id": "42f2ae9a",
   "metadata": {},
   "outputs": [
    {
     "name": "stdout",
     "output_type": "stream",
     "text": [
      "Original List : [1, 2, 3, 4, 5]\n",
      "List Of Output=  [1, 4, 9, 16, 25]\n"
     ]
    }
   ],
   "source": [
    "# Q 11: Write a function that accepts a list of numbers and returns a new list with the squares of all the numbers in the list.\n",
    "\n",
    "def sqaures_list_number():\n",
    "    ls1=[]\n",
    "    ls2=[]\n",
    "    for i in range(1,6):\n",
    "        i=int(input(\"Enter Number= \"))\n",
    "        ls1.append(i)\n",
    "    print(f\"Original List : {ls1}\")\n",
    "    for i in ls1:\n",
    "        i=i**2\n",
    "        ls2.append(i)\n",
    "    print(\"List Of Output= \",ls2)\n",
    "sqaures_list_number()"
   ]
  },
  {
   "cell_type": "code",
   "execution_count": 28,
   "id": "91e61a0e",
   "metadata": {},
   "outputs": [
    {
     "name": "stdout",
     "output_type": "stream",
     "text": [
      "Original String=  hello\n",
      "Total Vowel In String=  2\n"
     ]
    }
   ],
   "source": [
    "# Q 12: Write a function that accepts a string and counts how many vowels are in the string.\n",
    "\n",
    "def vowel_string():\n",
    "    str=input(\"Enter String = \").lower()\n",
    "    vowel=0\n",
    "    print(\"Original String= \",str)\n",
    "    for i in str:\n",
    "        if i in 'aeiou':\n",
    "            vowel+=1\n",
    "    print(\"Total Vowel In String= \",vowel)\n",
    "vowel_string()"
   ]
  },
  {
   "cell_type": "code",
   "execution_count": 30,
   "id": "d82b72d5",
   "metadata": {},
   "outputs": [
    {
     "name": "stdout",
     "output_type": "stream",
     "text": [
      " 1   5   5\n",
      " 2   5  10\n",
      " 3   5  15\n",
      " 4   5  20\n",
      " 5   5  25\n",
      " 6   5  30\n",
      " 7   5  35\n",
      " 8   5  40\n",
      " 9   5  45\n",
      "10   5  50\n"
     ]
    }
   ],
   "source": [
    "# Q 13: Write a function that accepts a number and prints its multiplication table from 1 to 10.\n",
    "\n",
    "def Multipi_table():\n",
    "    num=int(input(\"Enter Number= \"))\n",
    "    for i in  range(1,11):\n",
    "        print(f\"{i:2d}  {num:2d}  {i*num:2d}\")\n",
    "    \n",
    "Multipi_table()"
   ]
  },
  {
   "cell_type": "code",
   "execution_count": null,
   "id": "40594e6b",
   "metadata": {},
   "outputs": [
    {
     "name": "stdout",
     "output_type": "stream",
     "text": [
      "Original List=  ['jay', 'shri', 'ram', 'har har', 'Mahadev']\n",
      "3 3\n",
      "4 3\n",
      "3 3\n",
      "7 3\n",
      "7 3\n",
      "Longest String=  Mahadev\n"
     ]
    }
   ],
   "source": [
    "# Q 14: Write a function that accepts a list of strings and returns the longest string in the list.\n",
    "\n",
    "def longest_string():\n",
    "    ls1=[]\n",
    "    for i in range(1,6):\n",
    "        str=input(\"ENter String= \")\n",
    "        ls1.append(str)\n",
    "    print(\"Original List= \",ls1)\n",
    "    for i in ls1:\n",
    "        ln=ls1[0]\n",
    "        # print(len(i),len(ln))\n",
    "        if len(i)>len(ln):\n",
    "            ln=i\n",
    "    print(\"Longest String= \",ln)\n",
    "longest_string()\n",
    "\n",
    "\n",
    "    "
   ]
  },
  {
   "cell_type": "code",
   "execution_count": 43,
   "id": "2b4e14b1",
   "metadata": {},
   "outputs": [
    {
     "name": "stdout",
     "output_type": "stream",
     "text": [
      "370 is Armstrong Number\n"
     ]
    }
   ],
   "source": [
    "# Q 15: Write a function that accepts a number and checks if it is an Armstrong number.\n",
    "\n",
    "\n",
    "def armstrong():\n",
    "    num=int(input(\"Enter Number= \"))\n",
    "    cpy=num \n",
    "    tp=num\n",
    "    digit=0\n",
    "    sum=0\n",
    "    while num!=0:\n",
    "        num//=10\n",
    "        digit+=1\n",
    "        \n",
    "    for i in range(1,digit+1):\n",
    "        rem = tp%10\n",
    "        power=pow(rem,digit)\n",
    "        sum+=power\n",
    "        tp//=10\n",
    "    if cpy==sum:\n",
    "        print(f\"{cpy} is Armstrong Number\")\n",
    "    else:\n",
    "        print(f\"{cpy} is not a armstrong number\")\n",
    "armstrong()\n",
    "\n",
    "        \n"
   ]
  },
  {
   "cell_type": "code",
   "execution_count": 44,
   "id": "c746bce4",
   "metadata": {},
   "outputs": [
    {
     "name": "stdout",
     "output_type": "stream",
     "text": [
      "sum Of all Digit in number=  9\n"
     ]
    }
   ],
   "source": [
    "# Q 16: Write a function that accepts a number and returns the sum of its digits.\n",
    "\n",
    "def Sum_of_digits():\n",
    "    num=int(input(\"Enter number= \"))\n",
    "    sum=0\n",
    "    while num!=0:\n",
    "        rem=num%10\n",
    "        sum+=rem\n",
    "        num//=10\n",
    "    print(\"sum Of all Digit in number= \",sum)\n",
    "Sum_of_digits()\n",
    "\n"
   ]
  },
  {
   "cell_type": "code",
   "execution_count": 1,
   "id": "997b50c7",
   "metadata": {},
   "outputs": [
    {
     "name": "stdout",
     "output_type": "stream",
     "text": [
      "* * * * * \n",
      "* * * * * \n",
      "* * * * * \n",
      "* * * * * \n",
      "* * * * * \n"
     ]
    }
   ],
   "source": [
    "row=int(input(\"Enter Row= \"))\n",
    "for i in range(1,row+1):\n",
    "    for j in range(1,row+1):\n",
    "        print(\"*\",end=\" \")\n",
    "    print()\n"
   ]
  },
  {
   "cell_type": "code",
   "execution_count": 12,
   "id": "eb4ee5a7",
   "metadata": {},
   "outputs": [
    {
     "name": "stdout",
     "output_type": "stream",
     "text": [
      "* * * * * * * * * \n",
      "*       *       * \n",
      "*       *       * \n",
      "*       *       * \n",
      "* * * * * * * * * \n",
      "*       *       * \n",
      "*       *       * \n",
      "*       *       * \n",
      "* * * * * * * * * \n"
     ]
    }
   ],
   "source": [
    "row=int(input(\"Enter Row= \"))\n",
    "for i in range(1,row+1):\n",
    "    for j in range(1,row+1):\n",
    "        if i==1 or i==row or j==row or j==1:\n",
    "            print(\"*\",end=\" \")\n",
    "        else:\n",
    "            print(end=\"  \")\n",
    "\n",
    "    for k in range(2,row+1):\n",
    "        if i==1 or i==row or k==1 or k==row:\n",
    "            print(\"*\",end=\" \")\n",
    "        else:\n",
    "            print(end=\"  \")\n",
    "    print()\n",
    "for i in range(2,row+1):\n",
    "    for j in range(1,row+1):\n",
    "        if i==1 or i==row or j==row or j==1:\n",
    "            print(\"*\",end=\" \")\n",
    "        else:\n",
    "            print(end=\"  \")\n",
    "\n",
    "    for k in range(2,row+1):\n",
    "        if i==1 or i==row or k==1 or k==row:\n",
    "            print(\"*\",end=\" \")\n",
    "        else:\n",
    "            print(end=\"  \")\n",
    "    print()\n"
   ]
  },
  {
   "cell_type": "code",
   "execution_count": 13,
   "id": "c3a92347",
   "metadata": {},
   "outputs": [
    {
     "name": "stdout",
     "output_type": "stream",
     "text": [
      "* \n",
      "* * \n",
      "* * * \n",
      "* * * * \n",
      "* * * * * \n",
      "* * * * * * \n"
     ]
    }
   ],
   "source": [
    "row=int(input(\"Enter Row= \"))\n",
    "for i in range(1,row+1):\n",
    "    for j in range(1,i+1):\n",
    "        print(\"*\",end=\" \")\n",
    "    print()"
   ]
  },
  {
   "cell_type": "code",
   "execution_count": 14,
   "id": "b3dccbbd",
   "metadata": {},
   "outputs": [
    {
     "name": "stdout",
     "output_type": "stream",
     "text": [
      "* \n",
      "* * \n",
      "*   * \n",
      "*     * \n",
      "* * * * * \n"
     ]
    }
   ],
   "source": [
    "row=int(input(\"Enter Row= \"))\n",
    "for i in range(1,row+1):\n",
    "    for j in range(1,i+1):\n",
    "        if i==1 or i==row or j==1 or j==i:\n",
    "            print(\"*\",end=\" \")\n",
    "        else:\n",
    "            print(end=\"  \")\n",
    "    print()"
   ]
  },
  {
   "cell_type": "code",
   "execution_count": 15,
   "id": "81968c18",
   "metadata": {},
   "outputs": [
    {
     "name": "stdout",
     "output_type": "stream",
     "text": [
      "* \n",
      "* * \n",
      "* * * \n",
      "* * * * \n",
      "* * * * * \n",
      "* * * * \n",
      "* * * \n",
      "* * \n",
      "* \n"
     ]
    }
   ],
   "source": [
    "row=int(input(\"Enter Row= \"))\n",
    "for i in range(1,row+1):\n",
    "    for j in range(1,i+1):\n",
    "        print(\"*\",end=\" \")\n",
    "    print()\n",
    "for i in range(row-1,0,-1):\n",
    "    for j in range(1,i+1):\n",
    "        print(\"*\",end=\" \")\n",
    "    print()\n",
    "\n"
   ]
  },
  {
   "cell_type": "code",
   "execution_count": null,
   "id": "92761589",
   "metadata": {},
   "outputs": [
    {
     "name": "stdout",
     "output_type": "stream",
     "text": [
      "* * * * * * * * * * \n",
      "* * * *     * * * * \n",
      "* * *         * * * \n",
      "* *             * * \n",
      "*                 * \n"
     ]
    }
   ],
   "source": [
    "row=int(input(\"Enter Row= \"))\n",
    "spc=1\n",
    "for i in range(row,0,-1):\n",
    "    for j in range(1,i+1):\n",
    "        print(\"*\",end=\" \")\n",
    "    for k in range(1,spc*4-3):\n",
    "        print(end=\" \")\n",
    "    for h in range(1,i+1):\n",
    "        print(\"*\",end=\" \")\n",
    "    print()\n",
    "    spc+=1//kusum/audioSegmentPublicURL/\n"
   ]
  },
  {
   "cell_type": "code",
   "execution_count": 16,
   "id": "9e3d1129",
   "metadata": {},
   "outputs": [
    {
     "name": "stdout",
     "output_type": "stream",
     "text": [
      "* \n",
      "* * \n",
      "*   * \n",
      "*     * \n",
      "* * * * * \n",
      "*     * \n",
      "*   * \n",
      "* * \n",
      "* \n"
     ]
    }
   ],
   "source": [
    "row=int(input(\"Enter Row= \"))\n",
    "for i in range(1,row+1):\n",
    "    for j in range(1,i+1):\n",
    "        if i==1 or i==row or j==1 or j==i:\n",
    "            print(\"*\",end=\" \")\n",
    "        else:\n",
    "            print(end=\"  \")\n",
    "    print()\n",
    "for i in range(row-1,0,-1):\n",
    "    for j in range(1,i+1):\n",
    "        if i==1 or i==row or j==1 or j==i:\n",
    "            print(\"*\",end=\" \")\n",
    "        else:\n",
    "            print(end=\"  \")\n",
    "    print()\n",
    "\n"
   ]
  },
  {
   "cell_type": "code",
   "execution_count": 4,
   "id": "bc120df9",
   "metadata": {},
   "outputs": [
    {
     "name": "stdout",
     "output_type": "stream",
     "text": [
      "yOhGESH\n"
     ]
    }
   ],
   "source": [
    "# Q 17: Write a function that accepts a string and returns the string in alternating uppercase and lowercase characters.\n",
    "\n",
    "def alternative_string(string1):\n",
    "    string2=''\n",
    "    for i in string1:\n",
    "        if i.isupper():\n",
    "            string2+= i.lower()\n",
    "        else:\n",
    "            string2+= i.upper()\n",
    "    return string2\n",
    "\n",
    "strin=alternative_string(\"YoHgesh\")\n",
    "print(strin)"
   ]
  },
  {
   "cell_type": "code",
   "execution_count": null,
   "id": "1eb8a51d",
   "metadata": {},
   "outputs": [
    {
     "name": "stdout",
     "output_type": "stream",
     "text": [
      "43\n"
     ]
    }
   ],
   "source": [
    "# Q 18: Write a function that accepts a list of integers and returns the second largest number in the list.\n",
    "\n",
    "\n",
    "def second_largest(ls1):\n",
    "     hig1=max(ls1)\n",
    "     ls1.remove(hig1)\n",
    "     hig2=max(ls1)\n",
    "     return hig2\n",
    "second_lar=second_largest([1,23,43,22,34,222,34,2])\n",
    "print(second_lar)"
   ]
  },
  {
   "cell_type": "code",
   "execution_count": null,
   "id": "59be28a9",
   "metadata": {},
   "outputs": [
    {
     "name": "stdout",
     "output_type": "stream",
     "text": [
      "55\n"
     ]
    }
   ],
   "source": [
    "# Q 18: Write a function that accepts a list of integers and returns the second largest number in the list.\n",
    "\n",
    "def second_largest(lis1):\n",
    "    lis1.sort()\n",
    "    return lis1[-2]\n",
    "seco=second_largest([1,23,43,22,55,34,222,34,2])\n",
    "print(seco)"
   ]
  },
  {
   "cell_type": "code",
   "execution_count": 7,
   "id": "b40f5570",
   "metadata": {},
   "outputs": [
    {
     "name": "stdout",
     "output_type": "stream",
     "text": [
      "120\n"
     ]
    }
   ],
   "source": [
    "# Q 19: Write a function that accepts a list of numbers and returns the product of all the numbers in the list.\n",
    "\n",
    "def product_list(lis):\n",
    "    mul=1\n",
    "    for i in lis:\n",
    "        mul*=i\n",
    "    return mul\n",
    "product=product_list([5,1,2,3,4])\n",
    "print(product)"
   ]
  },
  {
   "cell_type": "code",
   "execution_count": 8,
   "id": "8e13bc6d",
   "metadata": {},
   "outputs": [
    {
     "name": "stdout",
     "output_type": "stream",
     "text": [
      "['hello', 'how', 'are', 'you']\n"
     ]
    }
   ],
   "source": [
    "# Q 20: Write a function that accepts a list of strings and returns a new list with only the strings that have an odd length.\n",
    "\n",
    "def odd_string(lis):\n",
    "    lis2=[]\n",
    "    for i in lis:\n",
    "        if len(i)%2!=0:\n",
    "            lis2.append(i)\n",
    "    return lis2\n",
    "odd_len=odd_string([\"hello\", 'my' , 'name','is','yogesh','how','are','you'])\n",
    "print(odd_len)"
   ]
  },
  {
   "cell_type": "code",
   "execution_count": 20,
   "id": "0b8aca65",
   "metadata": {},
   "outputs": [
    {
     "name": "stdout",
     "output_type": "stream",
     "text": [
      "o\n"
     ]
    }
   ],
   "source": [
    "# Q 21: Write a function that accepts a string and returns the first non-repeating character in the string.\n",
    "\n",
    "def fir_Non_repea_Char(string1):\n",
    "    for i in string1:\n",
    "        if string1.count(i)==1:\n",
    "            return i\n",
    "    return None\n",
    "\n",
    "non=fir_Non_repea_Char(\"hellohe\")\n",
    "print(non)\n",
    "\n",
    "    "
   ]
  },
  {
   "cell_type": "code",
   "execution_count": 10,
   "id": "19412148",
   "metadata": {},
   "outputs": [
    {
     "name": "stdout",
     "output_type": "stream",
     "text": [
      "h\n"
     ]
    }
   ],
   "source": [
    "string='hello'\n",
    "print(string[0])"
   ]
  },
  {
   "cell_type": "code",
   "execution_count": null,
   "id": "2b420ee6",
   "metadata": {},
   "outputs": [],
   "source": []
  }
 ],
 "metadata": {
  "kernelspec": {
   "display_name": "Python 3",
   "language": "python",
   "name": "python3"
  },
  "language_info": {
   "codemirror_mode": {
    "name": "ipython",
    "version": 3
   },
   "file_extension": ".py",
   "mimetype": "text/x-python",
   "name": "python",
   "nbconvert_exporter": "python",
   "pygments_lexer": "ipython3",
   "version": "3.10.12"
  }
 },
 "nbformat": 4,
 "nbformat_minor": 5
}
